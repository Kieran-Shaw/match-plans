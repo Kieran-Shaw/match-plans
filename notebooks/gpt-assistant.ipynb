{
 "cells": [
  {
   "attachments": {},
   "cell_type": "markdown",
   "metadata": {},
   "source": [
    "## GPT Assistant for Plan Matching"
   ]
  },
  {
   "attachments": {},
   "cell_type": "markdown",
   "metadata": {},
   "source": [
    "Create a GPT Assistant that can take the cleaned Carrier Name and the Cleaned Plan Admin Name and return the correct match (maybe the top 3 matches?)"
   ]
  },
  {
   "cell_type": "code",
   "execution_count": 6,
   "metadata": {},
   "outputs": [],
   "source": [
    "# import statements\n",
    "import pandas as pd\n",
    "import openai\n",
    "import os\n",
    "from dotenv import load_dotenv\n",
    "load_dotenv()\n",
    "\n",
    "# load keys\n",
    "API_KEY = os.getenv('OPEN_AI_SECRET_KEY')\n"
   ]
  },
  {
   "attachments": {},
   "cell_type": "markdown",
   "metadata": {},
   "source": [
    "### How I am planning on approaching this (I just want GPT4 to classify this stuff for me, to return the best match)\n",
    "1. process the information about the plan / carrier / renewal date\n",
    "2. query the database to return all potential plans\n",
    "3. Do data cleaning on carrier name to filter the dataset for only that carrier (ex: UHC -> UnitedHealthcare)\n",
    "4. Do data cleaning on the plan admin name to clean the plan admin name\n",
    "5. Add in more context to payload for GPT4 (issuer code, network name, plan level, plan type) as necessary\n",
    "6. Pass plans to GPT (in what format? I want to return an accuracy score as well?)"
   ]
  },
  {
   "cell_type": "markdown",
   "metadata": {},
   "source": []
  }
 ],
 "metadata": {
  "kernelspec": {
   "display_name": "base",
   "language": "python",
   "name": "python3"
  },
  "language_info": {
   "codemirror_mode": {
    "name": "ipython",
    "version": 3
   },
   "file_extension": ".py",
   "mimetype": "text/x-python",
   "name": "python",
   "nbconvert_exporter": "python",
   "pygments_lexer": "ipython3",
   "version": "3.9.18"
  },
  "orig_nbformat": 4,
  "vscode": {
   "interpreter": {
    "hash": "f44cbdfb2efbc0cea1434bb138a03e1afe958e8794e0d0448957ca4693084e2c"
   }
  }
 },
 "nbformat": 4,
 "nbformat_minor": 2
}
