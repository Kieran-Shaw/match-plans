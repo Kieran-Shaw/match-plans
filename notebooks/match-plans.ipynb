{
 "cells": [
  {
   "cell_type": "markdown",
   "metadata": {},
   "source": [
    "## match plans\n",
    "\n",
    "Time to take a fresh look at the problem and go step by step."
   ]
  },
  {
   "cell_type": "markdown",
   "metadata": {},
   "source": [
    "### import statements"
   ]
  },
  {
   "cell_type": "code",
   "execution_count": null,
   "metadata": {},
   "outputs": [],
   "source": [
    "import pandas as pd\n",
    "import numpy as np\n",
    "from keras.preprocessing.text import Tokenizer\n",
    "from keras.preprocessing.sequence import pad_sequences\n",
    "from sklearn.model_selection import train_test_split\n",
    "from keras.models import Sequential\n",
    "from keras.layers import Dense, Embedding, Flatten"
   ]
  },
  {
   "cell_type": "markdown",
   "metadata": {},
   "source": [
    "### read in df"
   ]
  },
  {
   "cell_type": "code",
   "execution_count": null,
   "metadata": {},
   "outputs": [],
   "source": [
    "df = pd.read_csv('/Users/kieranshaw/match-plans/data/small_group_dataset.csv')\n",
    "df.head(3)"
   ]
  },
  {
   "cell_type": "markdown",
   "metadata": {},
   "source": [
    "## simple neural network\n",
    "* The goal is to take the 4 columns that we use to match on in the UI and to train a neural network on those.\n",
    "* Starting very naive gives us a baseline to start from\n",
    "* columns:\n",
    "  * `census_carrier_name`\n",
    "  * `plan_admin_name`\n",
    "  * `carrier_name`\n",
    "  * `name`"
   ]
  },
  {
   "cell_type": "code",
   "execution_count": null,
   "metadata": {},
   "outputs": [],
   "source": [
    "df_naive = df[['census_carrier_name', 'plan_admin_name', 'carrier_name', 'name']].copy()\n",
    "\n",
    "# Combine the text columns into one, as we will treat them as one input to the network\n",
    "df_naive['combined_text'] = df_naive.apply(lambda x: ' '.join(x.astype(str)), axis=1)\n",
    "\n",
    "# Assuming 'is_match' is the binary target column you want to predict\n",
    "y = df['is_match'].values  # Or any other column that is the target variable\n",
    "\n",
    "# Tokenize the text\n",
    "tokenizer = Tokenizer(num_words=5000)\n",
    "tokenizer.fit_on_texts(df_naive['combined_text'])\n",
    "sequences = tokenizer.texts_to_sequences(df_naive['combined_text'])\n",
    "\n",
    "# Pad sequences to ensure uniform input size\n",
    "max_sequence_length = max(len(x) for x in sequences)\n",
    "X = pad_sequences(sequences, maxlen=max_sequence_length)\n",
    "\n",
    "# Split the data into training and testing sets\n",
    "X_train, X_test, y_train, y_test = train_test_split(X, y, test_size=0.2, random_state=42)\n",
    "\n",
    "# Define the neural network architecture\n",
    "model = Sequential()\n",
    "model.add(Embedding(input_dim=5000, output_dim=64, input_length=max_sequence_length))\n",
    "model.add(Flatten())  # Flatten the output of the embedding layer to feed into the dense layer\n",
    "\n",
    "# Use one neuron with 'sigmoid' activation function for binary classification\n",
    "model.add(Dense(10, activation='relu'))  # Hidden layer with 10 neurons\n",
    "model.add(Dense(1, activation='sigmoid'))  # Output layer with one neuron for binary classification\n",
    "\n",
    "# Compile the model with binary_crossentropy for binary classification\n",
    "model.compile(optimizer='adam', loss='binary_crossentropy', metrics=['accuracy'])\n",
    "\n",
    "# Train the model\n",
    "model.fit(X_train, y_train, epochs=10, batch_size=32, validation_split=0.1)\n",
    "\n",
    "# Evaluate the model\n",
    "loss, accuracy = model.evaluate(X_test, y_test)\n",
    "\n",
    "print(f\"Test Loss: {loss:.4f}\")\n",
    "print(f\"Test Accuracy: {accuracy:.4f}\")"
   ]
  },
  {
   "cell_type": "code",
   "execution_count": null,
   "metadata": {},
   "outputs": [],
   "source": []
  }
 ],
 "metadata": {
  "kernelspec": {
   "display_name": "match_plans",
   "language": "python",
   "name": "python3"
  },
  "language_info": {
   "codemirror_mode": {
    "name": "ipython",
    "version": 3
   },
   "file_extension": ".py",
   "mimetype": "text/x-python",
   "name": "python",
   "nbconvert_exporter": "python",
   "pygments_lexer": "ipython3",
   "version": "3.11.8"
  }
 },
 "nbformat": 4,
 "nbformat_minor": 2
}
