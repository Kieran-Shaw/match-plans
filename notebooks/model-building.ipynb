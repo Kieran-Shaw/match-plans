{
 "cells": [
  {
   "attachments": {},
   "cell_type": "markdown",
   "metadata": {},
   "source": [
    "## Import Statementes\n"
   ]
  },
  {
   "cell_type": "code",
   "execution_count": null,
   "metadata": {},
   "outputs": [],
   "source": [
    "# Standard library imports\n",
    "import sys\n",
    "\n",
    "# Third-party imports\n",
    "import pandas as pd\n",
    "import numpy as np\n",
    "import importlib\n",
    "from sklearn.feature_extraction.text import TfidfVectorizer\n",
    "from sklearn.model_selection import train_test_split, GridSearchCV\n",
    "from xgboost import XGBClassifier\n",
    "from sklearn.metrics import precision_score, recall_score, f1_score, confusion_matrix, accuracy_score\n",
    "\n",
    "# Local application imports\n",
    "sys.path.append('../')\n",
    "import src.utils\n",
    "importlib.reload(src.utils)\n",
    "from src.utils import SaveModelMetrics\n",
    "\n",
    "# Other settings\n",
    "pd.set_option('display.max_columns', None)\n",
    "pd.set_option('display.max_rows', None)\n"
   ]
  },
  {
   "attachments": {},
   "cell_type": "markdown",
   "metadata": {},
   "source": [
    "## Read in Small Group Dataset"
   ]
  },
  {
   "cell_type": "markdown",
   "metadata": {},
   "source": [
    "These are the fields from the datasets that we want\n",
    "\n",
    "- Census Data\n",
    "  - census_carrier_name\n",
    "  - plan_admin_name\n",
    "- Ideon Data\n",
    "  - id\n",
    "  - carrier_name\n",
    "  - name\n",
    "  - plan_type\n",
    "  - level\n",
    "  - primary_care_physician\n",
    "  - network_name\n",
    "  - coinsurance\n",
    "  - issuer_plan_code\n",
    "  - hsa_eligible\n",
    "  - individual_medical_deductible\n",
    "- Evaluation Class\n",
    "  - is_match"
   ]
  },
  {
   "cell_type": "code",
   "execution_count": null,
   "metadata": {},
   "outputs": [],
   "source": [
    "small_group_df = pd.read_csv(\n",
    "    '~/match-plans/data/small_group_dataset.csv', index_col=False)\n",
    "full_df = small_group_df[['id', 'census_carrier_name', 'plan_admin_name', 'carrier_name', 'name', 'plan_type', 'level', 'primary_care_physician','network_name', 'coinsurance', 'issuer_plan_code', 'hsa_eligible', 'individual_medical_deductible', 'is_match']]\n"
   ]
  },
  {
   "attachments": {},
   "cell_type": "markdown",
   "metadata": {},
   "source": [
    "## Naive Model"
   ]
  },
  {
   "cell_type": "markdown",
   "metadata": {},
   "source": [
    "* This model is meant to be extremely simple; take the information from the census and take the information from ideon that defines carriers and plan name, and jam it together in a text embedding\n",
    "* Let us see how far we can get without any sort of feature engineering at all\n",
    "* We aren't going to do much hyperparameter tuning on this model, just a few folds and a few parameters"
   ]
  },
  {
   "cell_type": "code",
   "execution_count": null,
   "metadata": {},
   "outputs": [],
   "source": [
    "# naive df\n",
    "naive_df = full_df[['census_carrier_name', 'carrier_name','plan_admin_name','name', 'is_match']]"
   ]
  },
  {
   "cell_type": "code",
   "execution_count": null,
   "metadata": {},
   "outputs": [],
   "source": [
    "# Combine the text columns into a single string\n",
    "naive_df['text'] = naive_df['census_carrier_name'] + ' ' + naive_df['carrier_name'] + \\\n",
    "    ' ' + naive_df['plan_admin_name'] + ' ' + naive_df['name']\n",
    "\n",
    "# Create a TF-IDF Vectorizer\n",
    "vectorizer = TfidfVectorizer(max_features=500)\n",
    "\n",
    "# Fitting the model and transforming the data\n",
    "X = vectorizer.fit_transform(naive_df['text']).toarray()\n",
    "y = naive_df['is_match']\n"
   ]
  },
  {
   "cell_type": "code",
   "execution_count": null,
   "metadata": {},
   "outputs": [],
   "source": [
    "# Train-test split\n",
    "X_train, X_test, y_train, y_test = train_test_split(\n",
    "    X, y, test_size=0.2, random_state=42)\n",
    "\n",
    "# Train XGBoost model\n",
    "model = XGBClassifier()\n",
    "\n",
    "# Define the parameter grid\n",
    "param_grid = {\n",
    "    'n_estimators': [100, 200, 300],\n",
    "    'max_depth': [3, 5, 7],\n",
    "}\n",
    "\n",
    "# Create GridSearchCV object\n",
    "grid = GridSearchCV(\n",
    "    estimator=model,\n",
    "    param_grid=param_grid,\n",
    "    scoring='f1',\n",
    "    cv=5,\n",
    "    verbose=1,\n",
    ")\n",
    "\n",
    "# Fit the GridSearchCV object to the data\n",
    "grid.fit(X_train, y_train)\n",
    "\n",
    "# Print the best parameters\n",
    "print('Best parameters found: ', grid.best_params_)\n",
    "print('All parameters: ',grid.best_estimator_.get_params())\n",
    "\n",
    "# Use the best model to make predictions\n",
    "y_pred = grid.best_estimator_.predict(X_test)\n",
    "\n",
    "# Evaluate the model\n",
    "accuracy = accuracy_score(y_test, y_pred)\n",
    "precision = precision_score(y_test, y_pred)\n",
    "recall = recall_score(y_test, y_pred)\n",
    "f1 = f1_score(y_test, y_pred)\n",
    "conf_matrix = confusion_matrix(y_test, y_pred)\n",
    "\n",
    "print(f'Accuracy: {accuracy}')\n",
    "print(f'Precision: {precision_score(y_test, y_pred)}')\n",
    "print(f'Recall: {recall}')\n",
    "print(f'F1 Score: {f1}')\n",
    "print(f'Confusion Matrix:\\n{conf_matrix}')\n",
    "SaveModelMetrics(file_path='~/match-plans/data/model_results.csv').save_metrics(\n",
    "    name='naive_model',\n",
    "    description='A naive model that only concantenates the census information and matching ideon information to try and predict is_match using text embeddings',\n",
    "    algorithm='XGBoostClassifier',\n",
    "    best_params_grid_search=grid.best_params_,\n",
    "    params=grid.best_estimator_.get_params(),\n",
    "    accuracy_score=accuracy,\n",
    "    precision_score=precision,\n",
    "    recall=recall,\n",
    "    f1_score=f1,\n",
    "    conf_matrix=conf_matrix\n",
    ")"
   ]
  },
  {
   "cell_type": "code",
   "execution_count": null,
   "metadata": {},
   "outputs": [],
   "source": []
  }
 ],
 "metadata": {
  "kernelspec": {
   "display_name": "base",
   "language": "python",
   "name": "python3"
  },
  "language_info": {
   "codemirror_mode": {
    "name": "ipython",
    "version": 3
   },
   "file_extension": ".py",
   "mimetype": "text/x-python",
   "name": "python",
   "nbconvert_exporter": "python",
   "pygments_lexer": "ipython3",
   "version": "3.9.18"
  },
  "orig_nbformat": 4,
  "vscode": {
   "interpreter": {
    "hash": "f44cbdfb2efbc0cea1434bb138a03e1afe958e8794e0d0448957ca4693084e2c"
   }
  }
 },
 "nbformat": 4,
 "nbformat_minor": 2
}
